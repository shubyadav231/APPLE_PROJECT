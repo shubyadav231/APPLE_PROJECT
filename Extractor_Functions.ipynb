{
 "cells": [
  {
   "cell_type": "code",
   "execution_count": 0,
   "metadata": {
    "application/vnd.databricks.v1+cell": {
     "cellMetadata": {
      "byteLimit": 2048000,
      "rowLimit": 10000
     },
     "inputWidgets": {},
     "nuid": "62ff9c49-fe5a-4011-9c96-5fec1012219d",
     "showTitle": false,
     "title": ""
    }
   },
   "outputs": [],
   "source": [
    "%run \"./Reader_Functions\""
   ]
  },
  {
   "cell_type": "code",
   "execution_count": 0,
   "metadata": {
    "application/vnd.databricks.v1+cell": {
     "cellMetadata": {
      "byteLimit": 2048000,
      "rowLimit": 10000
     },
     "inputWidgets": {},
     "nuid": "6740dee7-ddb1-48ba-af0f-9040134fc0f5",
     "showTitle": false,
     "title": ""
    }
   },
   "outputs": [],
   "source": [
    "def Extract():\n",
    "\n",
    "    Transaction_df = get_Data('csv','dbfs:/FileStore/Transaction_Updated.csv').get_data_frame()\n",
    "\n",
    "    Customer = get_Data('csv','dbfs:/FileStore/Customer_Updated.csv').get_data_frame()\n",
    "\n",
    "    spark.sql(\"\"\" DROP TABLE IF EXISTS default.customer_delta\"\"\")\n",
    "\n",
    "    dbutils.fs.rm('dbfs:/user/hive/warehouse/customer_delta',True)\n",
    "              \n",
    "    Customer.write.format('delta').saveAsTable('customer_delta')\n",
    "\n",
    "    Customer_df = get_Data('delta','default.customer_delta').get_data_frame()\n",
    "\n",
    "    return Transaction_df,Customer_df"
   ]
  }
 ],
 "metadata": {
  "application/vnd.databricks.v1+notebook": {
   "dashboards": [],
   "environmentMetadata": null,
   "language": "python",
   "notebookMetadata": {
    "mostRecentlyExecutedCommandWithImplicitDF": {
     "commandId": -1,
     "dataframes": [
      "_sqldf"
     ]
    },
    "pythonIndentUnit": 4
   },
   "notebookName": "Extractor_Functions",
   "widgets": {}
  }
 },
 "nbformat": 4,
 "nbformat_minor": 0
}
