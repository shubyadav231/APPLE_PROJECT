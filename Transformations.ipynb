{
 "cells": [
  {
   "cell_type": "code",
   "execution_count": 0,
   "metadata": {
    "application/vnd.databricks.v1+cell": {
     "cellMetadata": {
      "byteLimit": 2048000,
      "rowLimit": 10000
     },
     "inputWidgets": {},
     "nuid": "d0f81956-42ef-408b-a306-0cb7f52f1908",
     "showTitle": false,
     "title": ""
    }
   },
   "outputs": [],
   "source": [
    "%run \"./Extractor_Functions\""
   ]
  },
  {
   "cell_type": "code",
   "execution_count": 0,
   "metadata": {
    "application/vnd.databricks.v1+cell": {
     "cellMetadata": {
      "byteLimit": 2048000,
      "rowLimit": 10000
     },
     "inputWidgets": {},
     "nuid": "f62316f2-fa7d-4834-b5bb-c4e00f29791a",
     "showTitle": false,
     "title": ""
    }
   },
   "outputs": [],
   "source": [
    "from pyspark.sql.window import Window\n",
    "from pyspark.sql.functions import col,broadcast,lead,row_number,collect_set"
   ]
  },
  {
   "cell_type": "code",
   "execution_count": 0,
   "metadata": {
    "application/vnd.databricks.v1+cell": {
     "cellMetadata": {
      "byteLimit": 2048000,
      "rowLimit": 10000
     },
     "inputWidgets": {},
     "nuid": "26283d40-8c4f-439d-afdb-b9d2fe8e3aa4",
     "showTitle": false,
     "title": ""
    }
   },
   "outputs": [],
   "source": [
    "def AirpordsAfterApple():\n",
    "\n",
    "    \"\"\"Reading both Dataframes from Extract() module and saving into sepearte DFs\"\"\"\n",
    "    Transaction_df,Customer_df = Extract()\n",
    "\n",
    "    Transaction_df = Transaction_df.filter(Transaction_df['product_name'].isin('iPhone','AirPods')).\\\n",
    "            withColumn('Next_product',lead('product_name').\\\n",
    "                over(Window.partitionBy('customer_id').orderBy('transaction_date'))).\\\n",
    "                    filter(col('Next_product')=='AirPods').select('customer_id')\n",
    "        \n",
    "    joined_df = Customer_df.join(broadcast(Transaction_df),on='customer_id')\n",
    "        \n",
    "    print('Customers who bought Airpods after Iphone')\n",
    "    joined_df.show()\n",
    "    \n",
    "    return (joined_df.select('customer_id','customer_name','location'))\n",
    "\n",
    "def BothAirpodsIphone():\n",
    "\n",
    "    \"\"\"Reading both Dataframes from Extract() module and saving into sepearte DFs\"\"\"\n",
    "    Transaction_df,Customer_df = Extract()\n",
    "\n",
    "    Both_items = Transaction_df.filter(Transaction_df['product_name'].\\\n",
    "        isin('iPhone','AirPods')).select('customer_id').\\\n",
    "            dropDuplicates().rdd.flatMap(lambda x:x).collect()\n",
    "\n",
    "    Transaction_df = Transaction_df.filter(Transaction_df['customer_id'].isin(Both_items))\n",
    "\n",
    "    joined_df = Customer_df.join(broadcast(Transaction_df),on='customer_id').\\\n",
    "        select('customer_id','customer_name','location').dropDuplicates()\n",
    "        \n",
    "    print('Customers who bought both Airpods and Iphone')\n",
    "    joined_df.show()\n",
    "\n",
    "    return joined_df\n",
    "\n",
    "def Productsafterfirstpurchase():\n",
    "\n",
    "    \"\"\"Reading both Dataframes from Extract() module and saving into sepearte DFs\"\"\"\n",
    "    Transaction_df,Customer_df = Extract()\n",
    "\n",
    "    Transaction_df = Transaction_df.withColumn('first',row_number().\\\n",
    "        over(Window.partitionBy('customer_id').orderBy('transaction_date'))).\\\n",
    "            filter(col('first') > 1).groupBy('customer_id').\\\n",
    "                agg(collect_set('product_name').alias('All_Products'))\n",
    "\n",
    "    joined_df = Customer_df.join(broadcast(Transaction_df),on='customer_id').\\\n",
    "        select('customer_id','customer_name','location','All_Products').dropDuplicates()\n",
    "        \n",
    "    print('Customers who purchased below products after their first Purchase')\n",
    "    joined_df.show()\n",
    "\n",
    "    return joined_df"
   ]
  }
 ],
 "metadata": {
  "application/vnd.databricks.v1+notebook": {
   "dashboards": [],
   "environmentMetadata": null,
   "language": "python",
   "notebookMetadata": {
    "pythonIndentUnit": 4
   },
   "notebookName": "Transformations",
   "widgets": {}
  }
 },
 "nbformat": 4,
 "nbformat_minor": 0
}
