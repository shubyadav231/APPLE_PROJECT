{
 "cells": [
  {
   "cell_type": "code",
   "execution_count": 0,
   "metadata": {
    "application/vnd.databricks.v1+cell": {
     "cellMetadata": {
      "byteLimit": 2048000,
      "rowLimit": 10000
     },
     "inputWidgets": {},
     "nuid": "c8271a1a-edcd-4dd3-b50b-462c7652f90e",
     "showTitle": false,
     "title": ""
    }
   },
   "outputs": [],
   "source": [
    "%run \"./Loading\""
   ]
  },
  {
   "cell_type": "code",
   "execution_count": 0,
   "metadata": {
    "application/vnd.databricks.v1+cell": {
     "cellMetadata": {
      "byteLimit": 2048000,
      "rowLimit": 10000
     },
     "inputWidgets": {},
     "nuid": "8f954c57-44a2-4d03-b85c-dc51c48f9828",
     "showTitle": false,
     "title": ""
    }
   },
   "outputs": [
    {
     "output_type": "stream",
     "name": "stdout",
     "output_type": "stream",
     "text": [
      "Customers who bought Airpods after Iphone\n+-----------+-------------+----------+--------------+\n|customer_id|customer_name| join_date|      location|\n+-----------+-------------+----------+--------------+\n|        105|          Eva|2022-01-01|          Ohio|\n|        106|        Frank|2022-02-01|        Nevada|\n|        108|        Henry|2022-04-01|          Utah|\n|        110|          Bob|2022-06-01|    California|\n|        112|        Diana|2022-08-01|      New York|\n|        114|        Fiona|2022-10-01|       Georgia|\n|        116|       Hannah|2022-12-01|    Washington|\n|        118|        Julia|2023-02-01|    New Jersey|\n|        120|         Kate|2023-04-01|      Michigan|\n|        122|          Mia|2023-06-01|      Virginia|\n|        124|         Nora|2023-08-01|South Carolina|\n|        126|       Olivia|2023-10-01|      Kentucky|\n|        128|        Quinn|2023-12-01|       Alabama|\n|        130|       Rachel|2024-02-01|      Arkansas|\n|        132|       Sophia|2024-04-01|      Missouri|\n|        134|       Taylor|2024-06-01|     Wisconsin|\n|        136|       Victor|2024-08-01|          Iowa|\n|        138|       Willow|2024-10-01|  North Dakota|\n|        140|       Xavier|2024-12-01|         Idaho|\n|        142|      Zachary|2025-02-01|       Wyoming|\n+-----------+-------------+----------+--------------+\nonly showing top 20 rows\n\nLoading was successfull into the Filesystem\n"
     ]
    }
   ],
   "source": [
    "\"\"\" LOADED AND PREVIEW THE DATA OF FIRST BUSINESS LOGIC \n",
    "    CUSTOMER PURCHASING AIRPODS AFTER IPHONE \"\"\"\n",
    "# CALL THE FUNCTION    \n",
    "\n",
    "LoadAirpordsAfterApple()"
   ]
  },
  {
   "cell_type": "code",
   "execution_count": 0,
   "metadata": {
    "application/vnd.databricks.v1+cell": {
     "cellMetadata": {
      "byteLimit": 2048000,
      "rowLimit": 10000
     },
     "inputWidgets": {},
     "nuid": "80cf1a9e-eee2-4fdd-9fd8-7ec3c1862682",
     "showTitle": false,
     "title": ""
    }
   },
   "outputs": [
    {
     "output_type": "stream",
     "name": "stdout",
     "output_type": "stream",
     "text": [
      "Customers who bought both Airpods and Iphone\n+-----------+-------------+--------------+\n|customer_id|customer_name|      location|\n+-----------+-------------+--------------+\n|        112|        Diana|      New York|\n|        120|         Kate|      Michigan|\n|        117|          Ian| Massachusetts|\n|        115|         Gary|      Maryland|\n|        107|        Grace|      Colorado|\n|        124|         Nora|South Carolina|\n|        109|        Alice|         Texas|\n|        118|        Julia|    New Jersey|\n|        108|        Henry|          Utah|\n|        106|        Frank|        Nevada|\n|        113|        Ethan|       Arizona|\n|        125|         Owen|     Louisiana|\n|        114|        Fiona|       Georgia|\n|        121|         Liam|  Pennsylvania|\n|        105|          Eva|          Ohio|\n|        123|         Noah|North Carolina|\n|        119|         Jack|      Illinois|\n|        116|       Hannah|    Washington|\n|        110|          Bob|    California|\n|        111|      Charlie|       Florida|\n+-----------+-------------+--------------+\nonly showing top 20 rows\n\nFile loading was successfull by partitioning by location\n"
     ]
    }
   ],
   "source": [
    "\"\"\" LOADED AND PREVIEW THE DATA OF SECOND BUSINESS LOGIC \n",
    "    CUSTOMER PURCHASING BOTH AIRPODS AFTER IPHONE \"\"\"\n",
    "# CALL THE FUNCTION    \n",
    "\n",
    "LoadBothAirpodsIphone()"
   ]
  },
  {
   "cell_type": "code",
   "execution_count": 0,
   "metadata": {
    "application/vnd.databricks.v1+cell": {
     "cellMetadata": {
      "byteLimit": 2048000,
      "rowLimit": 10000
     },
     "inputWidgets": {},
     "nuid": "7ca7ec44-39f6-4469-be7f-8e4d3cd0115c",
     "showTitle": false,
     "title": ""
    }
   },
   "outputs": [
    {
     "output_type": "stream",
     "name": "stdout",
     "output_type": "stream",
     "text": [
      "Customers who purchased below products after their first Purchase\n+-----------+-------------+--------------+------------------+\n|customer_id|customer_name|      location|      All_Products|\n+-----------+-------------+--------------+------------------+\n|        107|        Grace|      Colorado|          [iPhone]|\n|        110|          Bob|    California|[AirPods, MacBook]|\n|        119|         Jack|      Illinois|          [iPhone]|\n|        123|         Noah|North Carolina|          [iPhone]|\n|        111|      Charlie|       Florida|          [iPhone]|\n|        124|         Nora|South Carolina|         [AirPods]|\n|        112|        Diana|      New York|         [AirPods]|\n|        106|        Frank|        Nevada|[AirPods, MacBook]|\n|        115|         Gary|      Maryland|          [iPhone]|\n|        113|        Ethan|       Arizona|[AirPods, MacBook]|\n|        108|        Henry|          Utah|         [AirPods]|\n|        117|          Ian| Massachusetts|[AirPods, MacBook]|\n|        118|        Julia|    New Jersey|[AirPods, MacBook]|\n|        114|        Fiona|       Georgia|[AirPods, MacBook]|\n|        105|          Eva|          Ohio|[AirPods, MacBook]|\n|        109|        Alice|         Texas|[AirPods, MacBook]|\n|        121|         Liam|  Pennsylvania|[AirPods, MacBook]|\n|        120|         Kate|      Michigan|         [AirPods]|\n|        125|         Owen|     Louisiana|[AirPods, MacBook]|\n|        116|       Hannah|    Washington|         [AirPods]|\n+-----------+-------------+--------------+------------------+\nonly showing top 20 rows\n\nDelta Table loading was successfull\n"
     ]
    }
   ],
   "source": [
    "\"\"\" LOADED AND PREVIEW THE DATA OF THIRD BUSINESS LOGIC \n",
    "    CUSTOMER PURCHASED ITEMS AFTER INTIAL PURCHASE \"\"\"\n",
    "# CALL THE FUNCTION    \n",
    "\n",
    "LoadProductsafterfirstpurchase()"
   ]
  }
 ],
 "metadata": {
  "application/vnd.databricks.v1+notebook": {
   "dashboards": [],
   "environmentMetadata": null,
   "language": "python",
   "notebookMetadata": {
    "pythonIndentUnit": 4
   },
   "notebookName": "Loaded",
   "widgets": {}
  }
 },
 "nbformat": 4,
 "nbformat_minor": 0
}
