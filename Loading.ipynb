{
 "cells": [
  {
   "cell_type": "code",
   "execution_count": 0,
   "metadata": {
    "application/vnd.databricks.v1+cell": {
     "cellMetadata": {
      "byteLimit": 2048000,
      "rowLimit": 10000
     },
     "inputWidgets": {},
     "nuid": "b97cc23f-1d8a-4106-8ed2-2f54df2ff79a",
     "showTitle": false,
     "title": ""
    }
   },
   "outputs": [],
   "source": [
    "%run \"./Transformations\""
   ]
  },
  {
   "cell_type": "code",
   "execution_count": 0,
   "metadata": {
    "application/vnd.databricks.v1+cell": {
     "cellMetadata": {
      "byteLimit": 2048000,
      "rowLimit": 10000
     },
     "inputWidgets": {},
     "nuid": "466221cc-70bb-490a-b150-452883c85754",
     "showTitle": false,
     "title": ""
    }
   },
   "outputs": [],
   "source": [
    "%run \"./Loader_Functions\""
   ]
  },
  {
   "cell_type": "code",
   "execution_count": 0,
   "metadata": {
    "application/vnd.databricks.v1+cell": {
     "cellMetadata": {
      "byteLimit": 2048000,
      "rowLimit": 10000
     },
     "inputWidgets": {},
     "nuid": "94c45e15-1cec-475e-bf91-d20bac56e01a",
     "showTitle": false,
     "title": ""
    }
   },
   "outputs": [],
   "source": [
    "def LoadAirpordsAfterApple():\n",
    "    DF = AirpordsAfterApple()\n",
    "\n",
    "    try:\n",
    "        get_sink_source(sink_type = 'dbfs',df=DF,path='dbfs:/FileStore/Output/SingleFile/',method='overwrite',params=None).load_data_frame()\n",
    "    except Exception as e:\n",
    "        print(f'Error while loading the file {e}')\n",
    "    \n",
    "    print('Loading was successfull into the Filesystem')\n",
    "\n",
    "def LoadBothAirpodsIphone():\n",
    "    DF = BothAirpodsIphone()\n",
    "\n",
    "    try:\n",
    "        get_sink_source(sink_type = 'dbfs_with_partition',df=DF,path='dbfs:/FileStore/Output/PartitionbyLocation/',method='overwrite',params='location').load_data_frame()\n",
    "    except Exception as e:\n",
    "        print(f'Error while loading the file {e}')\n",
    "    \n",
    "    print('File loading was successfull by partitioning by location')\n",
    "\n",
    "def LoadProductsafterfirstpurchase():\n",
    "    DF = Productsafterfirstpurchase()\n",
    "\n",
    "    try:\n",
    "        get_sink_source(sink_type = 'delta',df=DF,path='default.fromsecondpurchase',method='overwrite',params=None).load_data_frame()\n",
    "\n",
    "    except Exception as e:\n",
    "        print(f'Error while loading the table {e}')\n",
    "    \n",
    "    print('Delta Table loading was successfull')"
   ]
  }
 ],
 "metadata": {
  "application/vnd.databricks.v1+notebook": {
   "dashboards": [],
   "environmentMetadata": null,
   "language": "python",
   "notebookMetadata": {
    "pythonIndentUnit": 4
   },
   "notebookName": "Loading",
   "widgets": {}
  }
 },
 "nbformat": 4,
 "nbformat_minor": 0
}
