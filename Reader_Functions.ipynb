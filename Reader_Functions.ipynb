{
 "cells": [
  {
   "cell_type": "markdown",
   "metadata": {
    "application/vnd.databricks.v1+cell": {
     "cellMetadata": {},
     "inputWidgets": {},
     "nuid": "1388b709-73fc-4f20-8ffa-e29d730b6a07",
     "showTitle": false,
     "title": ""
    }
   },
   "source": [
    "HAR HAR MAHADEV \\\n",
    "HARE KRISHNA"
   ]
  },
  {
   "cell_type": "code",
   "execution_count": 0,
   "metadata": {
    "application/vnd.databricks.v1+cell": {
     "cellMetadata": {
      "byteLimit": 2048000,
      "rowLimit": 10000
     },
     "inputWidgets": {},
     "nuid": "79b5455d-3f25-4a1e-8754-ee5c7df8fdd9",
     "showTitle": false,
     "title": ""
    }
   },
   "outputs": [],
   "source": [
    "class DataSource:\n",
    "\n",
    "    def __init__(self,path):\n",
    "        self.path = path\n",
    "    \n",
    "    def get_data_frame(self):\n",
    "        \"\"\" Abstract Class for Calling the Sub Classes \"\"\"\n",
    "        raise ValueError('Not Implemented')\n",
    "\n",
    "class CSVDataSource(DataSource):\n",
    "    def get_data_frame(self):\n",
    "        return (spark.read.csv(path=self.path, header=True))\n",
    "\n",
    "class ParquetDataSource(DataSource):\n",
    "    def get_data_frame(self):\n",
    "        return (spark.read.parquet(path=self.path))\n",
    "\n",
    "class DeltaDataSource(DataSource):      \n",
    "    def get_data_frame(self):\n",
    "        return (spark.read.table(self.path))\n",
    "    \n",
    "def get_Data(data_type, path):\n",
    "    if data_type == 'csv':\n",
    "        return CSVDataSource(path)\n",
    "    elif data_type == 'parquet':\n",
    "        return ParquetDataSource(path)\n",
    "    elif data_type == 'delta':\n",
    "        return DeltaDataSource(path)\n",
    "    else:\n",
    "        raise ValueError(f'Not Implemented for data_type {data_type}')"
   ]
  }
 ],
 "metadata": {
  "application/vnd.databricks.v1+notebook": {
   "dashboards": [],
   "environmentMetadata": null,
   "language": "python",
   "notebookMetadata": {
    "pythonIndentUnit": 4
   },
   "notebookName": "Reader_Functions",
   "widgets": {}
  }
 },
 "nbformat": 4,
 "nbformat_minor": 0
}
