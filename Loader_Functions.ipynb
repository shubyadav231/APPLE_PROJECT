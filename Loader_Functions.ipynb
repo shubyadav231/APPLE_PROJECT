{
 "cells": [
  {
   "cell_type": "code",
   "execution_count": 0,
   "metadata": {
    "application/vnd.databricks.v1+cell": {
     "cellMetadata": {
      "byteLimit": 2048000,
      "rowLimit": 10000
     },
     "inputWidgets": {},
     "nuid": "c4c55a96-4950-499d-ba29-3b1ec7c9f219",
     "showTitle": false,
     "title": ""
    }
   },
   "outputs": [],
   "source": [
    "class DataSink:\n",
    "\n",
    "    def __init__(self,df,path,method,params):\n",
    "        self.df = df\n",
    "        self.path = path\n",
    "        self.method = method\n",
    "        self.params = params\n",
    "    \n",
    "    def load_data_frame(self):\n",
    "        \"\"\"\n",
    "        Abstarct method for Subclasses \n",
    "        \"\"\"\n",
    "        raise ValueError('Not Implemented')\n",
    "\n",
    "class LoadToDBFS(DataSink):\n",
    "\n",
    "    def load_data_frame(self):\n",
    "\n",
    "        self.df.write.format('csv').option('header','true').mode(self.method).save(self.path)\n",
    "\n",
    "class LoadToDBFSWithPartition(DataSink):\n",
    "\n",
    "    def load_data_frame(self):\n",
    "        \n",
    "        self.df.write.format('csv').option('header','true').mode(self.method).partitionBy(self.params).save(self.path)\n",
    "\n",
    "class LoadToDeltaTable(DataSink):\n",
    "\n",
    "    def load_data_frame(self):\n",
    "\n",
    "        self.df.write.format('delta').mode(self.method).saveAsTable(self.path)\n",
    "\n",
    "def get_sink_source(sink_type,df,path,method,params):\n",
    "\n",
    "    if sink_type == 'dbfs':\n",
    "        return LoadToDBFS(df,path,method,params)\n",
    "    elif sink_type == 'dbfs_with_partition':\n",
    "        return  LoadToDBFSWithPartition(df,path,method,params)\n",
    "    elif sink_type == 'delta':\n",
    "        return LoadToDeltaTable(df,path,method,params)\n",
    "    else:\n",
    "        return ValueError(f'Not Implemented {sink_type}')"
   ]
  }
 ],
 "metadata": {
  "application/vnd.databricks.v1+notebook": {
   "dashboards": [],
   "environmentMetadata": null,
   "language": "python",
   "notebookMetadata": {
    "pythonIndentUnit": 4
   },
   "notebookName": "Loader_Functions",
   "widgets": {}
  }
 },
 "nbformat": 4,
 "nbformat_minor": 0
}
